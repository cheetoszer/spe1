{
 "cells": [
  {
   "cell_type": "markdown",
   "metadata": {},
   "source": [
    "Import"
   ]
  },
  {
   "cell_type": "code",
   "execution_count": 1,
   "metadata": {},
   "outputs": [],
   "source": [
    "import os"
   ]
  },
  {
   "cell_type": "markdown",
   "metadata": {},
   "source": [
    "Fonction load & chunk"
   ]
  },
  {
   "cell_type": "code",
   "execution_count": 2,
   "metadata": {},
   "outputs": [],
   "source": [
    "def load_text_files(directory: str):\n",
    "    \"\"\"\n",
    "    Charge tout le contenu des fichiers .txt dans un dossier.\n",
    "    \"\"\"\n",
    "    texts = {}\n",
    "    for filename in os.listdir(directory):\n",
    "        if filename.endswith(\".txt\"):\n",
    "            filepath = os.path.join(directory, filename)\n",
    "            with open(filepath, \"r\", encoding=\"utf-8\") as file:\n",
    "                texts[filename] = file.read()\n",
    "    return texts\n",
    "\n",
    "def chunk_text_by_headers(text: str):\n",
    "    \"\"\"\n",
    "    Découpe un texte en chunks basés sur les sections délimitées par \"#\".\n",
    "    \n",
    "    Chaque section démarre par un \"#\". Le texte à l'intérieur de chaque section est\n",
    "    ensuite regroupé en un seul chunk.\n",
    "    \n",
    "    Args:\n",
    "        text (str): Le texte à découper.\n",
    "        \n",
    "    Returns:\n",
    "        List[str]: Liste de chunks cohérents.\n",
    "    \"\"\"\n",
    "    chunks = []\n",
    "    sections = text.split(\"#\")\n",
    "    \n",
    "    for section in sections:\n",
    "        if section.strip():  # Ignore les sections vides\n",
    "            title, *content = section.strip().split(\"\\n\", 1)\n",
    "            content_text = content[0].strip() if content else \"\"\n",
    "            \n",
    "            # Créer un chunk à partir du titre et du contenu\n",
    "            chunk = f\"#{title.strip()}\\n{content_text}\"\n",
    "            chunks.append(chunk)\n",
    "    \n",
    "    return chunks\n",
    "\n",
    "def save_chunks(chunks, output_directory, filename_base):\n",
    "    \"\"\"\n",
    "    Sauvegarde les chunks dans des fichiers .txt séparés.\n",
    "    \"\"\"\n",
    "    os.makedirs(output_directory, exist_ok=True)\n",
    "    for idx, chunk in enumerate(chunks):\n",
    "        output_path = os.path.join(output_directory, f\"{filename_base}_chunk_{idx + 1}.txt\")\n",
    "        with open(output_path, \"w\", encoding=\"utf-8\") as file:\n",
    "            file.write(chunk)\n",
    "        print(f\"Chunk {idx + 1} sauvegardé dans {output_path}\")\n",
    "\n",
    "def main(input_directory: str, output_directory: str):\n",
    "    \"\"\"\n",
    "    Charge les fichiers .txt, effectue le chunking et sauvegarde les chunks.\n",
    "    \"\"\"\n",
    "    # Charger les textes depuis le répertoire\n",
    "    texts = load_text_files(input_directory)\n",
    "\n",
    "    # Traiter chaque document\n",
    "    for filename, text in texts.items():\n",
    "        print(f\"Chunking du fichier : {filename}\")\n",
    "        chunks = chunk_text_by_headers(text)\n",
    "        filename_base = os.path.splitext(filename)[0]\n",
    "        save_chunks(chunks, output_directory, filename_base)\n",
    "    \n",
    "    return \n"
   ]
  },
  {
   "cell_type": "code",
   "execution_count": 3,
   "metadata": {},
   "outputs": [
    {
     "name": "stdout",
     "output_type": "stream",
     "text": [
      "Chunking du fichier : rules.txt\n",
      "Chunk 1 sauvegardé dans chunks/rules_chunk_1.txt\n",
      "Chunk 2 sauvegardé dans chunks/rules_chunk_2.txt\n",
      "Chunk 3 sauvegardé dans chunks/rules_chunk_3.txt\n",
      "Chunk 4 sauvegardé dans chunks/rules_chunk_4.txt\n",
      "Chunk 5 sauvegardé dans chunks/rules_chunk_5.txt\n",
      "Chunking du fichier : faq.txt\n",
      "Chunk 1 sauvegardé dans chunks/faq_chunk_1.txt\n",
      "Chunk 2 sauvegardé dans chunks/faq_chunk_2.txt\n",
      "Chunk 3 sauvegardé dans chunks/faq_chunk_3.txt\n",
      "Chunk 4 sauvegardé dans chunks/faq_chunk_4.txt\n",
      "Chunk 5 sauvegardé dans chunks/faq_chunk_5.txt\n",
      "Chunk 6 sauvegardé dans chunks/faq_chunk_6.txt\n",
      "Chunk 7 sauvegardé dans chunks/faq_chunk_7.txt\n",
      "Chunk 8 sauvegardé dans chunks/faq_chunk_8.txt\n"
     ]
    }
   ],
   "source": [
    "if __name__ == \"__main__\":\n",
    "    input_directory = \"documents\"  # Répertoire contenant les fichiers .txt\n",
    "    output_directory = \"chunks\"    # Répertoire où sauvegarder les chunks\n",
    "    main(input_directory, output_directory)"
   ]
  },
  {
   "cell_type": "code",
   "execution_count": null,
   "metadata": {},
   "outputs": [],
   "source": []
  }
 ],
 "metadata": {
  "kernelspec": {
   "display_name": ".venv",
   "language": "python",
   "name": "python3"
  },
  "language_info": {
   "codemirror_mode": {
    "name": "ipython",
    "version": 3
   },
   "file_extension": ".py",
   "mimetype": "text/x-python",
   "name": "python",
   "nbconvert_exporter": "python",
   "pygments_lexer": "ipython3",
   "version": "3.12.3"
  }
 },
 "nbformat": 4,
 "nbformat_minor": 2
}
