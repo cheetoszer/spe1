{
 "cells": [
  {
   "cell_type": "markdown",
   "metadata": {},
   "source": [
    "Import"
   ]
  },
  {
   "cell_type": "code",
   "execution_count": 1,
   "metadata": {},
   "outputs": [
    {
     "name": "stderr",
     "output_type": "stream",
     "text": [
      "/home/cheetos/Bureau/Rag/.venv/lib/python3.12/site-packages/tqdm/auto.py:21: TqdmWarning: IProgress not found. Please update jupyter and ipywidgets. See https://ipywidgets.readthedocs.io/en/stable/user_install.html\n",
      "  from .autonotebook import tqdm as notebook_tqdm\n"
     ]
    }
   ],
   "source": [
    "import openai\n",
    "from qdrant_client import QdrantClient\n",
    "from transformers import AutoTokenizer, AutoModel\n",
    "import torch"
   ]
  },
  {
   "cell_type": "markdown",
   "metadata": {},
   "source": [
    "Client LlamaCpp"
   ]
  },
  {
   "cell_type": "code",
   "execution_count": null,
   "metadata": {},
   "outputs": [],
   "source": [
    "openai_client = openai.OpenAI(\n",
    "    base_url=\"http://localhost:8080/v1\",  # URL de votre serveur llamacpp\n",
    "    api_key=\"sk-no-key-required\"\n",
    ")"
   ]
  },
  {
   "cell_type": "markdown",
   "metadata": {},
   "source": [
    "Fonction"
   ]
  },
  {
   "cell_type": "code",
   "execution_count": null,
   "metadata": {},
   "outputs": [],
   "source": [
    "\n",
    "def load_embedding_model(model_name=\"intfloat/multilingual-e5-large-instruct\"):\n",
    "    \"\"\"\n",
    "    Charge le modèle d'embeddings et le tokenizer depuis Hugging Face.\n",
    "    \"\"\"\n",
    "    tokenizer = AutoTokenizer.from_pretrained(model_name)\n",
    "    model = AutoModel.from_pretrained(model_name)\n",
    "\n",
    "    device = \"cuda\" if torch.cuda.is_available() else \"cpu\"\n",
    "    model = model.to(device)\n",
    "\n",
    "    return tokenizer, model, device\n",
    "\n",
    "\n",
    "\n",
    "\n",
    "\n",
    "\n",
    "\n",
    "def vectorize_query(query: str, tokenizer, model, device):\n",
    "    \"\"\"\n",
    "    Vectorise une requête utilisateur pour le retriever.\n",
    "    \"\"\"\n",
    "    query = f\"query: {query}\"\n",
    "\n",
    "    inputs = tokenizer(query, return_tensors=\"pt\", padding=True, truncation=True).to(device)\n",
    "    with torch.no_grad():\n",
    "        embedding = model(**inputs).last_hidden_state.mean(dim=1)\n",
    "\n",
    "    return embedding.cpu().numpy()\n",
    "\n",
    "\n",
    "\n",
    "\n",
    "\n",
    "\n",
    "\n",
    "def search_qdrant(query_vector, client, collection_name, top_k=3):\n",
    "    \"\"\"\n",
    "    Effectue une recherche dans la collection Qdrant à partir d'un vecteur de requête.\n",
    "    \"\"\"\n",
    "    query_vector = query_vector[0].tolist()\n",
    "\n",
    "    results = client.search(\n",
    "        collection_name=collection_name,\n",
    "        query_vector=query_vector,\n",
    "        limit=top_k,\n",
    "        with_payload=True\n",
    "    )\n",
    "\n",
    "    return results\n",
    "\n",
    "\n",
    "\n",
    "\n",
    "\n",
    "\n",
    "\n",
    "def retrieve_and_generate_answer(query: str, collection_name=\"GameRag\"):\n",
    "    \"\"\"\n",
    "    Recherche dans la base de données, puis génère une réponse via llamacpp.\n",
    "    \"\"\"\n",
    "\n",
    "    tokenizer, model, device = load_embedding_model()\n",
    "\n",
    "    qdrant_client = QdrantClient(url=\"http://localhost:6333\")\n",
    "\n",
    "    query_vector = vectorize_query(query, tokenizer, model, device)\n",
    "\n",
    "    results = search_qdrant(query_vector, qdrant_client, collection_name)\n",
    "\n",
    "    retrieved_texts = [result.payload.get(\"texte\", \"Texte non disponible\") for result in results]\n",
    "\n",
    "    context = \"\\n\\n\".join(retrieved_texts)\n",
    "    prompt = f\"Répond aux questions en te basant sur le contexte :\\n\\nContext :\\n{context}\\n\\nQuestion :\\n{query}\"\n",
    "\n",
    "    response = openai_client.completions.create(\n",
    "        model=\"\",\n",
    "        temperature=0.7,\n",
    "        top_p=0.9,\n",
    "        prompt=prompt,\n",
    "        stream=True\n",
    "    )\n",
    "\n",
    "    for chunk in response:\n",
    "        print(chunk.choices[0].text, end='', flush=True)\n",
    "    \n",
    "    return prompt"
   ]
  },
  {
   "cell_type": "markdown",
   "metadata": {},
   "source": [
    "Execution du script"
   ]
  },
  {
   "cell_type": "code",
   "execution_count": 6,
   "metadata": {},
   "outputs": [
    {
     "name": "stderr",
     "output_type": "stream",
     "text": [
      "/tmp/ipykernel_44419/1593052784.py:37: DeprecationWarning: `search` method is deprecated and will be removed in the future. Use `query_points` instead.\n",
      "  results = client.search(\n"
     ]
    },
    {
     "name": "stdout",
     "output_type": "stream",
     "text": [
      " \"Pour améliorer vos performances en division, suivez ces recommandations :\n",
      "1. **Pratiquez les tables de division** : Utilisez des cartes ou des applications pour mémoriser les tables de division jusqu'à 20. Cela vous aidera à effectuer des divisions plus rapidement et avec plus de précision.\n",
      "2. **Entraînez-vous avec des calculs mentaux** : Utilisez des techniques comme la décomposition des nombres pour simplifier les divisions. Par exemple, au lieu de diviser 25 par 5, divisez 25 par 2 et multipliez le résultat par 2.\n",
      "3. **Utilisez des outils** : Si vous avez des outils disponibles, comme des calculatrices, utilisez-les pour vérifier vos réponses et vous familiariser avec les processus de division.\n",
      "4. **Faites des exercices chronométrés** : Entraînez-vous à effectuer des divisions en temps limité pour améliorer votre rapidité. Essayez de diviser des nombres simples (comme 20 par 4) en moins de 5 secondes.\n",
      "5. **Analysez vos erreurs** : Tenez un journal de vos erreurs pour identifier les types de divisions qui vous posent problème. Cela vous aidera à cibler vos efforts d'amélioration.\"\n",
      "\n",
      "Ces recommandations devraient vous aider à améliorer vos compétences en division et à réduire le temps et les erreurs dans vos calculs."
     ]
    }
   ],
   "source": [
    "# Exemple d'utilisation\n",
    "query = \"Comment puis-je améliorer mes performances en division ?\"\n",
    "a = retrieve_and_generate_answer(query)"
   ]
  },
  {
   "cell_type": "code",
   "execution_count": 8,
   "metadata": {},
   "outputs": [
    {
     "data": {
      "text/plain": [
       "'Contexte :\\nRéponses aux questions d\\'amélioration :\\nQ: \"Quelles sont vos recommandations pour améliorer mes performances ?\"\\nR: \"Basé sur vos données, voici mes recommandations : concentrez-vous sur les divisions en particulier avec des nombres à 2 chiffres, pratiquez les calculs mentaux rapides pour réduire votre temps de réponse, essayez d\\'atteindre le niveau 8 en moins de temps en optimisant vos déplacements, travaillez sur les exercices de puissances qui sont actuellement votre point faible.\"\\nQ: \"Comment puis-je réduire mon temps de réponse ?\"\\nR: \"Pour réduire votre temps de réponse actuel de 6.5 secondes : utilisez des techniques de calcul mental comme la décomposition des nombres, pratiquez les tables de multiplication jusqu\\'à 12, faites des sessions d\\'entraînement chronométrées. Votre objectif devrait être d\\'atteindre 5 secondes par réponse.\"\\n\\n\\n\\nRéponses aux questions de stratégie :\\nQ: \"Quelle stratégie devrais-je adopter pour améliorer mon score ?\"\\nR: \"Visez 5 secondes max par calcul simple, réservez plus de temps pour les divisions complexes, concentrez-vous d\\'abord sur la précision (>85%), augmentez progressivement votre vitesse, visez les multiplicateurs de score.\"\\n\\n\\nRéponses aux questions sur les types d\\'opérations :   \\nQ: \"Dans quel type d\\'opération suis-je le plus performant ?\"\\nR: \"Vos meilleures performances sont en multiplication, avec un taux de réussite de 92%. Voici le classement de vos performances par type d\\'opération : multiplication : 92%, addition : 88%, soustraction : 85%, division : 76%, puissances : 70%.\"\\nQ: \"Quelles sont mes faiblesses en mathématiques ?\"\\nR: \"Les divisions et les puissances semblent être vos points d\\'amélioration principaux. Dans les divisions, vous avez tendance à prendre plus de temps (moyenne de 7.5 secondes contre 4.2 secondes pour les autres opérations) et votre taux d\\'erreur est plus élevé (24%).\"\\n\\n\\n\\nQuestion : Comment puis-je améliorer mes performances en division ?\\n\\nRéponse :'"
      ]
     },
     "execution_count": 8,
     "metadata": {},
     "output_type": "execute_result"
    }
   ],
   "source": [
    "a"
   ]
  }
 ],
 "metadata": {
  "kernelspec": {
   "display_name": ".venv",
   "language": "python",
   "name": "python3"
  },
  "language_info": {
   "codemirror_mode": {
    "name": "ipython",
    "version": 3
   },
   "file_extension": ".py",
   "mimetype": "text/x-python",
   "name": "python",
   "nbconvert_exporter": "python",
   "pygments_lexer": "ipython3",
   "version": "3.12.3"
  }
 },
 "nbformat": 4,
 "nbformat_minor": 2
}
